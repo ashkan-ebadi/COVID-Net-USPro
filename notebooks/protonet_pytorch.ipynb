{
  "cells": [
    {
      "cell_type": "markdown",
      "metadata": {
        "colab_type": "text",
        "id": "GlyMLKngmf-t"
      },
      "source": [
        "# Prototypical Network on Ultrasound Images for COVID-19 Detection\n",
        "\n",
        "There may be some discrepancies between code in this notebook and the scripts in /protonet. Please refer to the scripts for complete experiments, and use this notebook for initial testing."
      ]
    },
    {
      "cell_type": "markdown",
      "metadata": {
        "colab_type": "text",
        "id": "uh1W3Lszseoa"
      },
      "source": [
        "## Import libraries\n",
        "Python version 3.9.9 is used for this project. "
      ]
    },
    {
      "cell_type": "code",
      "execution_count": 1,
      "metadata": {
        "colab": {},
        "colab_type": "code",
        "id": "F8XY5yCCZCYZ"
      },
      "outputs": [],
      "source": [
        "import numpy as np\n",
        "import matplotlib.pyplot as plt\n",
        "import multiprocessing as mp\n",
        "import os\n",
        "import cv2\n",
        "\n",
        "import torch\n",
        "import torch.nn as nn\n",
        "import torchvision\n",
        "import torch.nn.functional as F\n",
        "import torch.optim as optim\n",
        "from torch.autograd import Variable"
      ]
    },
    {
      "cell_type": "code",
      "execution_count": 2,
      "metadata": {
        "colab": {
          "base_uri": "https://localhost:8080/",
          "height": 34
        },
        "colab_type": "code",
        "id": "X5zGtLpGIziY",
        "outputId": "86df2581-5686-4b0a-de71-606e4d36b5c7"
      },
      "outputs": [
        {
          "name": "stdout",
          "output_type": "stream",
          "text": [
            "False\n"
          ]
        }
      ],
      "source": [
        "#Check GPU support, activate GPU if available\n",
        "print(torch.cuda.is_available())"
      ]
    },
    {
      "cell_type": "markdown",
      "metadata": {
        "colab_type": "text",
        "id": "Ebffp6XBskUN"
      },
      "source": [
        "## Import data"
      ]
    },
    {
      "cell_type": "markdown",
      "metadata": {
        "colab_type": "text",
        "id": "5-R_Clr7tEQh"
      },
      "source": [
        "The dataset is saved in: https://github.com/nrc-cnrc/COVID-US\n",
        "4 classes of data is present: \n",
        "- COVID \n",
        "- Normal \n",
        "- Other \n",
        "- Penumonia \n",
        "\n",
        "Data is structured in class subfolders. i.e. \n",
        "train/\n",
        "- COVID/\n",
        "    - [image-file-name-1].jpg\n",
        "    - [image-file-name-2].jpg\n",
        "    - ...\n",
        "- Normal/\n",
        "    - [image-file-name-1].jpg\n",
        "    - [image-file-name-2].jpg\n",
        "    - ...\n",
        "- Pneumonia/\n",
        "    - [image-file-name-1].jpg\n",
        "    - [image-file-name-2].jpg\n",
        "    - ...\n",
        "- Other/\n",
        "    - [image-file-name-1].jpg\n",
        "    - [image-file-name-2].jpg\n",
        "    - ...\n",
        "test/\n",
        "- COVID/\n",
        "    - [image-file-name-1].jpg\n",
        "    - [image-file-name-2].jpg\n",
        "    - ...\n",
        "- Normal/\n",
        "    - [image-file-name-1].jpg\n",
        "    - [image-file-name-2].jpg\n",
        "    - ...\n",
        "- Pneumonia/\n",
        "    - [image-file-name-1].jpg\n",
        "    - [image-file-name-2].jpg\n",
        "    - ...\n",
        "- Other/\n",
        "    - [image-file-name-1].jpg\n",
        "    - [image-file-name-2].jpg\n",
        "    - ..."
      ]
    },
    {
      "cell_type": "markdown",
      "metadata": {
        "colab_type": "text",
        "id": "l33V3V0asntp"
      },
      "source": [
        "## Read data"
      ]
    },
    {
      "cell_type": "markdown",
      "metadata": {
        "colab_type": "text",
        "id": "bMLu94FStR5n"
      },
      "source": [
        "Currently data is split randomly into:\n",
        "- 90% for train set\n",
        "- 10% for test set \n",
        "\n",
        "Dataset is augmented by rotating each image by 90, 180, 270 degrees. Resulting sets are 4 times the original. \n",
        "Only convex probe images are used. "
      ]
    },
    {
      "cell_type": "code",
      "execution_count": 2,
      "metadata": {},
      "outputs": [],
      "source": [
        "import defs \n",
        "def read_images(base_directory):\n",
        "    \"\"\"\n",
        "    Reads all the images from the base_directory\n",
        "    Uses multithreading to decrease the reading time drastically\n",
        "    \"\"\"\n",
        "    datax = None\n",
        "    datay = None\n",
        "    pool = mp.Pool(mp.cpu_count())\n",
        "    # pool = mp.Pool()\n",
        "\n",
        "    results = [pool.apply_async(defs.read_subdir_image,\n",
        "                            args=(\n",
        "                                base_directory + '/' + directory + '/', directory,)) for directory in os.listdir(base_directory) if not directory.startswith('.')]\n",
        "    pool.close()\n",
        "\n",
        "    for result in results:\n",
        "        if datax is None:\n",
        "            datax = result.get()[0]\n",
        "            datay = result.get()[1]\n",
        "        else:\n",
        "            datax = np.vstack([datax, result.get()[0]])\n",
        "            datay = np.concatenate([datay, result.get()[1]])\n",
        "    return datax, datay"
      ]
    },
    {
      "cell_type": "code",
      "execution_count": null,
      "metadata": {},
      "outputs": [],
      "source": [
        "# Get videos with certain LUS scores\n",
        "import pandas as pd\n",
        "df_LUS = pd.read_csv(\"LUSS_metadata.csv\")\n",
        "target_vids = df_LUS[(df_LUS['class']=='COVID') & (df_LUS['LUSS']==2)].id.tolist()\n",
        "target_vids"
      ]
    },
    {
      "cell_type": "code",
      "execution_count": null,
      "metadata": {},
      "outputs": [],
      "source": [
        "import defs_LUS\n",
        "def read_images_with_score(base_directory, target_vids):\n",
        "    \"\"\"\n",
        "    Reads all the alphabets from the base_directory\n",
        "    Uses multithreading to decrease the reading time drastically\n",
        "    \"\"\"\n",
        "    datax = None\n",
        "    datay = None\n",
        "    if __name__ == \"__main__\":\n",
        "        pool = mp.Pool(mp.cpu_count())\n",
        "\n",
        "        results = [pool.apply_async(defs_LUS.read_subdir_image,\n",
        "                                args=(\n",
        "                                    base_directory + '/' + directory + '/', directory, target_vids)) for directory in os.listdir(base_directory) if not directory.startswith('.')]\n",
        "        pool.close()\n",
        "\n",
        "        for result in results:\n",
        "            print(result.ready())\n",
        "            if result.ready(): \n",
        "                if datax ==  None:\n",
        "                    print(result.get()[0])\n",
        "                    datax = result.get()[0]\n",
        "                    # print(\"datax type is:\" + type(datax))\n",
        "                    datay = result.get()[1]\n",
        "                else:\n",
        "                    datax = np.vstack([datax, result.get()[0]])\n",
        "                    datay = np.concatenate([datay, result.get()[1]])\n",
        "    return datax, datay"
      ]
    },
    {
      "cell_type": "code",
      "execution_count": 3,
      "metadata": {
        "colab": {
          "base_uri": "https://localhost:8080/",
          "height": 50
        },
        "colab_type": "code",
        "id": "P7UN-n0l7aT0",
        "outputId": "147692d1-df50-484e-d848-854d905c55e3"
      },
      "outputs": [
        {
          "name": "stdout",
          "output_type": "stream",
          "text": [
            "CPU times: user 19.8 ms, sys: 62.6 ms, total: 82.3 ms\n",
            "Wall time: 2.82 s\n"
          ]
        }
      ],
      "source": [
        "%%time \n",
        "trainx, trainy = read_images('/directory_path_to_train_folder')"
      ]
    },
    {
      "cell_type": "code",
      "execution_count": 4,
      "metadata": {
        "colab": {
          "base_uri": "https://localhost:8080/",
          "height": 50
        },
        "colab_type": "code",
        "id": "G8urUFzNAaYA",
        "outputId": "35f2db4b-893b-454d-aac6-968364ddf7c0"
      },
      "outputs": [
        {
          "name": "stdout",
          "output_type": "stream",
          "text": [
            "CPU times: user 11.3 ms, sys: 43.7 ms, total: 55 ms\n",
            "Wall time: 1.49 s\n"
          ]
        }
      ],
      "source": [
        "%%time \n",
        "testx, testy = read_images('/directory_path_to_test_folder')"
      ]
    },
    {
      "cell_type": "code",
      "execution_count": 6,
      "metadata": {
        "colab": {
          "base_uri": "https://localhost:8080/",
          "height": 34
        },
        "colab_type": "code",
        "id": "Li3bT2bPAdih",
        "outputId": "14138bcd-2f38-4d65-bb0f-ad6d97a19b74"
      },
      "outputs": [
        {
          "data": {
            "text/plain": [
              "((160, 224, 224, 3), (160,), (64, 224, 224, 3), (64,))"
            ]
          },
          "execution_count": 6,
          "metadata": {},
          "output_type": "execute_result"
        }
      ],
      "source": [
        "trainx.shape, trainy.shape, testx.shape, testy.shape"
      ]
    },
    {
      "cell_type": "markdown",
      "metadata": {
        "colab_type": "text",
        "id": "J2VcplJ3xA-z"
      },
      "source": [
        "## Create samples"
      ]
    },
    {
      "cell_type": "code",
      "execution_count": 5,
      "metadata": {
        "colab": {},
        "colab_type": "code",
        "id": "oDOhxCjd24bw"
      },
      "outputs": [],
      "source": [
        "def extract_sample(n_way, n_support, n_query, datax, datay, include_COVID):\n",
        "  \"\"\"\n",
        "  Picks random sample of size n_support+n_querry, for n_way classes\n",
        "  Args:\n",
        "      n_way (int): number of classes in a classification task\n",
        "      n_support (int): number of labeled examples per class in the support set\n",
        "      n_query (int): number of labeled examples per class in the query set\n",
        "      datax (np.array): dataset of images\n",
        "      datay (np.array): dataset of labels\n",
        "  Returns:\n",
        "      (dict) of:\n",
        "        (torch.Tensor): sample of images. Size (n_way, n_support+n_query, (dim))\n",
        "        (int): n_way\n",
        "        (int): n_support\n",
        "        (int): n_query\n",
        "  \"\"\"\n",
        "  if include_COVID:\n",
        "    K = np.random.choice(np.unique(datay), n_way, replace=False)\n",
        "    K = [\"Normal\",\"Other\",\"Pneumonia\",\"COVID\"]\n",
        "  else: \n",
        "    # if include_COVID is false, take out all COVID instances\n",
        "    possible_choices = [cls for cls in datay if cls != \"COVID\"]\n",
        "    K = np.random.choice(np.unique(possible_choices), n_way, replace=False)\n",
        "    K = [\"Normal\",\"Other\",\"Pneumonia\"]\n",
        "  sample = []\n",
        "  sample_class = []\n",
        "  for cls in K:\n",
        "    datax_cls = datax[datay == cls]\n",
        "    perm = np.random.permutation(datax_cls)\n",
        "    sample_cls = perm[:(n_support+n_query)]\n",
        "    # print(sample_cls.shape)\n",
        "    sample.append(sample_cls)\n",
        "    sample_class.append(cls) # get real class names \n",
        "  sample = np.array(sample)\n",
        "  # print(sample.shape)\n",
        "  # print(type(sample))\n",
        "  sample = torch.from_numpy(sample).float()\n",
        "  sample = sample.permute(0,1,4,2,3)\n",
        "  \n",
        "  return({\n",
        "      'images': sample,\n",
        "      'sample_class': sample_class, \n",
        "      'n_way': n_way,\n",
        "      'n_support': n_support,\n",
        "      'n_query': n_query\n",
        "      })"
      ]
    },
    {
      "cell_type": "code",
      "execution_count": 6,
      "metadata": {},
      "outputs": [],
      "source": [
        "# version in remote (if input datax and datay are tensors)\n",
        "def extract_sample(n_way, n_support, n_query, datax, datay, prob_type, include_COVID):\n",
        "  \"\"\"\n",
        "  Picks random sample of size n_support+n_querry, for n_way classes\n",
        "  Args:\n",
        "      n_way (int): number of classes in a classification task\n",
        "      n_support (int): number of labeled examples per class in the support set\n",
        "      n_query (int): number of labeled examples per class in the query set\n",
        "      datax (torch.Tensor) dataset of images\n",
        "      datay (torch.Tensor): dataset of labels 0-3\n",
        "  Returns:\n",
        "      (dict) of:\n",
        "        (torch.Tensor): sample of images. Size (n_way, n_support+n_query, (dim))\n",
        "        (int): n_way\n",
        "        (int): n_support\n",
        "        (int): n_query\n",
        "  \"\"\"\n",
        "  sample = []\n",
        "  sample_class = []\n",
        "\n",
        "  if prob_type == 2: \n",
        "    index_y = [[datay == 0], [datay == 3]] # [0] = negative labels, [1] = positive labels\n",
        "  elif prob_type == 3: \n",
        "    index_y = [[datay == 0], [datay == 2], [datay==3]] # [0] = normal, [1] = Pneumonia, [2] = COVID\n",
        "  else: # prob_type == 4\n",
        "    if include_COVID:\n",
        "      index_y = [[datay == 0], [datay == 1], [datay == 2], [datay==3]]\n",
        "    else: \n",
        "      index_y = [[datay == 0], [datay == 1], [datay == 2]]\n",
        "      prob_type = 3\n",
        "  for i in range(0,prob_type): \n",
        "    datax_cls = datax[index_y[i]] \n",
        "    perm=datax_cls[torch.randperm(datax_cls.size()[0])]\n",
        "    sample_cls = perm[:(n_support+n_query)]\n",
        "    sample.append(sample_cls)\n",
        "    sample_class.append(i) # get real class nums\n",
        "  \n",
        "  sample_ten = torch.stack(sample)\n",
        "  sample = sample_ten.permute(0,1,4,2,3).float()\n",
        "  \n",
        "  return({\n",
        "      'images': sample,\n",
        "      'sample_class': sample_class, \n",
        "      'n_way': n_way,\n",
        "      'n_support': n_support,\n",
        "      'n_query': n_query\n",
        "      })"
      ]
    },
    {
      "cell_type": "code",
      "execution_count": 7,
      "metadata": {
        "colab": {},
        "colab_type": "code",
        "id": "ia3JLpQRu4fh"
      },
      "outputs": [],
      "source": [
        "def display_sample(sample):\n",
        "  \"\"\"\n",
        "  Displays sample in a grid\n",
        "  Args:\n",
        "      sample (torch.Tensor): sample of images to display\n",
        "  \"\"\"\n",
        "  #need 4D tensor to create grid, currently 5D\n",
        "  sample_4D = sample.view(sample.shape[0]*sample.shape[1],*sample.shape[2:])\n",
        "  #make a grid\n",
        "  out = torchvision.utils.make_grid(sample_4D, nrow=sample.shape[1])\n",
        "  plt.figure(figsize = (16,7))\n",
        "  plt.imshow(out.permute(1, 2, 0))"
      ]
    },
    {
      "cell_type": "markdown",
      "metadata": {
        "colab_type": "text",
        "id": "-uGq_ya4yG2K"
      },
      "source": [
        "As an example, let's pick a sample and display it\n",
        "\n",
        "*   n_way = 3\n",
        "*   n_support = 5\n",
        "*   n_query = 2\n",
        "\n",
        "This example does not contain COVID data. \n",
        "\n"
      ]
    },
    {
      "cell_type": "code",
      "execution_count": 8,
      "metadata": {
        "colab": {
          "base_uri": "https://localhost:8080/",
          "height": 449
        },
        "colab_type": "code",
        "id": "lxOHvWfO1ApZ",
        "outputId": "b2a8c6f9-cb14-4ba1-d9df-198d69a6d30e"
      },
      "outputs": [
        {
          "name": "stderr",
          "output_type": "stream",
          "text": [
            "Clipping input data to the valid range for imshow with RGB data ([0..1] for floats or [0..255] for integers).\n"
          ]
        },
        {
          "name": "stdout",
          "output_type": "stream",
          "text": [
            "[0, 1]\n"
          ]
        },
        {
          "data": {
            "image/png": "[encoded data removed]",
            "text/plain": [
              "<Figure size 1152x504 with 1 Axes>"
            ]
          },
          "metadata": {
            "needs_background": "light"
          },
          "output_type": "display_data"
        }
      ],
      "source": [
        "# Using extract_sample in remote (using tensors)\n",
        "train_y_num = []\n",
        "for y in trainy: \n",
        "    train_y_num.append(0 if y==\"Normal\" else 1 if y==\"Other\" else 2 if y==\"Pneumonia\" else 3)\n",
        "# train_y_num = np.array(train_y_num)\n",
        "\n",
        "local_batch = torch.tensor(np.asarray(trainx).astype(int))\n",
        "local_labels=torch.tensor(np.asarray(train_y_num).astype(int))\n",
        "\n",
        "sample_example = extract_sample(4, 5, 2, local_batch, local_labels, 2, include_COVID=False)\n",
        "print(sample_example['sample_class'])\n",
        "display_sample(sample_example['images'])"
      ]
    },
    {
      "cell_type": "code",
      "execution_count": 9,
      "metadata": {
        "colab": {
          "base_uri": "https://localhost:8080/",
          "height": 34
        },
        "colab_type": "code",
        "id": "RhDNMyG8AjOB",
        "outputId": "e305d41f-4319-4290-ea59-821c3d1797ae"
      },
      "outputs": [
        {
          "data": {
            "text/plain": [
              "torch.Size([2, 7, 3, 224, 224])"
            ]
          },
          "execution_count": 9,
          "metadata": {},
          "output_type": "execute_result"
        }
      ],
      "source": [
        "sample_example['images'].shape"
      ]
    },
    {
      "cell_type": "markdown",
      "metadata": {
        "colab_type": "text",
        "id": "HbakTT_nFubI"
      },
      "source": [
        "## Build model"
      ]
    },
    {
      "cell_type": "markdown",
      "metadata": {
        "colab_type": "text",
        "id": "_-E6-_vvzXZw"
      },
      "source": [
        "Paper: [Prototypical Networks for Few-shot Learning](https://arxiv.org/pdf/1703.05175v2.pdf)"
      ]
    },
    {
      "cell_type": "markdown",
      "metadata": {
        "colab_type": "text",
        "id": "VuvH9joezgja"
      },
      "source": [
        "The embedding part takes a (224x224x3) image and returns a column vector of length 64. \n",
        "\n",
        "Model 0: The image2vector function is composed of 4 modules. Each module comprises a 64-filter 3 × 3 convolution, a batch normalization layer, a ReLU nonlinearity and a 2 × 2 max-pooling layer. \n",
        "Model 1: ResNet18\n",
        "\n",
        "When applied to the 224 × 224 ultrasound images this architecture results in a 64-dimensional output space."
      ]
    },
    {
      "cell_type": "code",
      "execution_count": 6,
      "metadata": {
        "colab": {},
        "colab_type": "code",
        "id": "DBzAfRyJB-3X"
      },
      "outputs": [],
      "source": [
        "class Flatten(nn.Module):\n",
        "  def __init__(self, encoder):\n",
        "    super(Flatten, self).__init__()\n",
        "    self.encoder = encoder\n",
        "\n",
        "  def forward(self, x):\n",
        "    return x.view(x.size(0), -1)\n",
        "\n",
        "def load_protonet_conv(model_type, prob_type):\n",
        "  \"\"\"\n",
        "  Loads the prototypical network model\n",
        "  Arg: \n",
        "    model_type: 0-basic CNN, 1-ResNet18, 2-ResNet18 with trainable last 4 conv layers, \n",
        "                3-ResNet50, 4-ResNet50 with trainable last 3 conv layers, \n",
        "                5-VGG16 with trainable last 4 conv layers. \n",
        "    prob_type: 2,3,4 depending on total class number to classify. \n",
        "  Returns:\n",
        "      Model (Class ProtoNet)\n",
        "  \"\"\"\n",
        "  def conv_block(in_channels, out_channels):\n",
        "    return nn.Sequential(\n",
        "        nn.Conv2d(in_channels, out_channels, 3, padding=1),\n",
        "        nn.BatchNorm2d(out_channels),\n",
        "        nn.ReLU(),\n",
        "        nn.MaxPool2d(2))\n",
        "\n",
        "  if model_type==0: \n",
        "    x_dim=(3,224,224)\n",
        "    hid_dim=64\n",
        "    z_dim=64\n",
        "    encoder = nn.Sequential(\n",
        "      conv_block(x_dim[0], hid_dim),\n",
        "      conv_block(hid_dim, hid_dim),\n",
        "      conv_block(hid_dim, hid_dim),\n",
        "      conv_block(hid_dim, z_dim),\n",
        "      Flatten()\n",
        "    )\n",
        "  \n",
        "  elif model_type==1:\n",
        "      encoder = models.resnet18(pretrained=True)\n",
        "      num_ftrs = encoder.fc.in_features\n",
        "      encoder.fc = nn.Linear(num_ftrs, prob_type) # reinitialize last layer to have out_feature, corresponding to num_class\n",
        "      # Freeze all but last layer\n",
        "      for name, param in encoder.named_parameters():\n",
        "          if not 'fc' in name: \n",
        "              param.requires_grad = False\n",
        "    \n",
        "  elif model_type==2:\n",
        "    encoder = models.resnet18(pretrained=True)\n",
        "    num_ftrs = encoder.fc.in_features\n",
        "    encoder.fc = nn.Linear(num_ftrs, prob_type) # reinitialize last layer to have out_feature, corresponding to num_class\n",
        "    # Freeze all but last layer (4 conv layers) and fc \n",
        "    for name, param in encoder.named_parameters(): \n",
        "        if 'fc' in name or 'layer4' in name: \n",
        "            param.requires_grad = True\n",
        "        else: \n",
        "            param.requires_grad = False\n",
        "  \n",
        "  elif model_type==3:\n",
        "    encoder = models.resnet50(pretrained=True)\n",
        "    num_ftrs = encoder.fc.in_features\n",
        "    encoder.fc = nn.Linear(num_ftrs, prob_type) # reinitialize last layer to have out_feature, corresponding to num_class\n",
        "    # Freeze all but last layer\n",
        "    for name, param in encoder.named_parameters():\n",
        "        if not 'fc' in name: \n",
        "            param.requires_grad = False\n",
        "    \n",
        "  elif model_type==4:\n",
        "    encoder = models.resnet50(pretrained=True)\n",
        "    num_ftrs = encoder.fc.in_features\n",
        "    encoder.fc = nn.Linear(num_ftrs, prob_type) # reinitialize last layer to have out_feature, corresponding to num_class\n",
        "    # Freeze all but last layer 4.2 with 3 conv layers \n",
        "    for name, param in encoder.named_parameters(): \n",
        "        if 'fc' in name or 'layer4.2' in name: \n",
        "            param.requires_grad = True\n",
        "        else: \n",
        "            param.requires_grad = False\n",
        "\n",
        "  elif model_type==5: \n",
        "    encoder = models.vgg16(pretrained=True)\n",
        "    num_ftrs = encoder.classifier[-1].in_features\n",
        "    encoder.classifier[-1] = nn.Linear(num_ftrs, prob_type)\n",
        "    # freeze all but the last 4 conv layers past [20]\n",
        "    for name, param in encoder.features[:20].named_parameters(): \n",
        "        param.requires_grad = False\n",
        "  \n",
        "  return ProtoNet(encoder)"
      ]
    },
    {
      "cell_type": "code",
      "execution_count": 11,
      "metadata": {
        "colab": {},
        "colab_type": "code",
        "id": "Tjf4lqBFB_Ei"
      },
      "outputs": [],
      "source": [
        "def euclidean_dist(x, y):\n",
        "  \"\"\"\n",
        "  Computes euclidean distance btw x and y\n",
        "  Args:\n",
        "      x (torch.Tensor): shape (n, d). n usually n_way*n_query\n",
        "      y (torch.Tensor): shape (m, d). m usually n_way\n",
        "  Returns:\n",
        "      torch.Tensor: shape(n, m). For each query, the distances to each centroid\n",
        "  \"\"\"\n",
        "  n = x.size(0)\n",
        "  m = y.size(0)\n",
        "  d = x.size(1)\n",
        "  assert d == y.size(1)\n",
        "\n",
        "  x = x.unsqueeze(1).expand(n, m, d)\n",
        "  y = y.unsqueeze(0).expand(n, m, d)\n",
        "\n",
        "  return torch.pow(x - y, 2).sum(2)"
      ]
    },
    {
      "cell_type": "code",
      "execution_count": 12,
      "metadata": {
        "colab": {},
        "colab_type": "code",
        "id": "FTjSYAz1WY5e"
      },
      "outputs": [],
      "source": [
        "from sklearn import metrics\n",
        "import torchvision.models as models  \n",
        "\n",
        "class ProtoNet(nn.Module):\n",
        "  def __init__(self, encoder):\n",
        "    \"\"\"\n",
        "    Args:\n",
        "    encoder : CNN encoding the images in sample\n",
        "    n_way (int): number of classes in a classification task\n",
        "    n_support (int): number of labeled examples per class in the support set\n",
        "    n_query (int): number of labeled examples per class in the query set\n",
        "    \"\"\"\n",
        "    super(ProtoNet, self).__init__()\n",
        "    self.encoder = encoder\n",
        "\n",
        "  def set_forward_loss(self, sample):\n",
        "    \"\"\"\n",
        "    Computes loss, accuracy, precision and recall and output for classification task\n",
        "    Args:\n",
        "      sample (torch.Tensor): shape (n_way, n_support+n_query, (dim)) \n",
        "    Returns:\n",
        "      torch.Tensor: shape(2), loss, accuracy and y_hat\n",
        "    \"\"\"\n",
        "    sample_images = sample['images']\n",
        "    sample_class = sample['sample_class']\n",
        "\n",
        "    n_way = sample['n_way']\n",
        "    n_support = sample['n_support']\n",
        "    n_query = sample['n_query']\n",
        "\n",
        "    x_support = sample_images[:, :n_support]\n",
        "    x_query = sample_images[:, n_support:]\n",
        "    \n",
        "    target_inds = torch.arange(0, n_way).view(n_way, 1, 1).expand(n_way, n_query, 1).long()\n",
        "    target_inds = Variable(target_inds, requires_grad=False)\n",
        "    \n",
        "    #encode images of the support and the query set\n",
        "    x = torch.cat([x_support.contiguous().view(n_way * n_support, *x_support.size()[2:]),\n",
        "                  x_query.contiguous().view(n_way * n_query, *x_query.size()[2:])], 0)\n",
        "\n",
        "    z = self.encoder.forward(x)\n",
        "    z_dim = z.size(-1) \n",
        "\n",
        "    #create class prototype \n",
        "    z_proto = z[:n_way*n_support].view(n_way, n_support, z_dim).mean(1)\n",
        "    z_query = z[n_way*n_support:]\n",
        "\n",
        "    #compute distances\n",
        "    dists = euclidean_dist(z_query, z_proto)\n",
        "\n",
        "    #compute probabilities\n",
        "    log_p_y = F.log_softmax(-dists, dim=1).view(n_way, n_query, -1)\n",
        "    loss_val = -log_p_y.gather(2, target_inds).squeeze().view(-1).mean()\n",
        "    _, y_hat = log_p_y.max(2)\n",
        "\n",
        "    # compute metrics\n",
        "    y_true_np = target_inds.squeeze().cpu().detach().numpy().flatten()\n",
        "    y_pred_np = y_hat.cpu().detach().numpy().flatten() \n",
        "\n",
        "    accuracy = metrics.accuracy_score(y_true_np, y_pred_np)\n",
        "    cls_labels = np.arange(0, n_way, 1, dtype=int)\n",
        "\n",
        "    precision = metrics.precision_score(y_true_np, y_pred_np, average=None, zero_division=1, labels=cls_labels)\n",
        "    recall = metrics.recall_score(y_true_np, y_pred_np, average=None, zero_division=1, labels=cls_labels)\n",
        "\n",
        "    return loss_val, {\n",
        "      'loss': loss_val.item(),\n",
        "      'x_query': x_query, \n",
        "      'sample_class': sample_class, \n",
        "      'y_true_np': y_true_np, \n",
        "      'y_pred_np': y_pred_np, \n",
        "      'accuracy': accuracy, \n",
        "      'recall': recall,\n",
        "      'precision': precision,\n",
        "      'possibility': log_p_y\n",
        "      }"
      ]
    },
    {
      "cell_type": "markdown",
      "metadata": {
        "colab_type": "text",
        "id": "0Fke38yY6pI9"
      },
      "source": [
        "## Train"
      ]
    },
    {
      "cell_type": "code",
      "execution_count": 13,
      "metadata": {
        "colab": {},
        "colab_type": "code",
        "id": "BnLOgECOKG_y"
      },
      "outputs": [],
      "source": [
        "from tqdm.notebook import tnrange\n",
        "\n",
        "def train(model, optimizer, prob_type, train_x, train_y, n_way, n_support, n_query, max_epoch, epoch_size):\n",
        "  \"\"\"\n",
        "  Trains the protonet\n",
        "  Args:\n",
        "      model\n",
        "      optimizer\n",
        "      train_x (np.array): images of training set\n",
        "      train_y(np.array): labels of training set\n",
        "      n_way (int): number of classes in a classification task\n",
        "      n_support (int): number of labeled examples per class in the support set\n",
        "      n_query (int): number of labeled examples per class in the query set\n",
        "      max_epoch (int): max epochs to train on\n",
        "      epoch_size (int): episodes per epoch\n",
        "  \"\"\"\n",
        "  #divide the learning rate by 2 at each epoch\n",
        "  scheduler = optim.lr_scheduler.StepLR(optimizer, 1, gamma=0.5, last_epoch=-1)\n",
        "  epoch = 0 #epochs done so far\n",
        "  stop = False #status to know when to stop\n",
        "\n",
        "  while epoch < max_epoch and not stop:\n",
        "    running_loss = 0.0\n",
        "    running_acc_sklearn = 0\n",
        "    running_precision = 0.0\n",
        "    running_recall = 0.0\n",
        "\n",
        "    for episode in tnrange(epoch_size, desc=\"Epoch {:d} train\".format(epoch+1)):\n",
        "      # training without covid data if n_way <= 3 \n",
        "      if n_way <= 3: \n",
        "        sample = extract_sample(n_way, n_support, n_query, train_x, train_y, prob_type, include_COVID=False)\n",
        "      else: \n",
        "        sample = extract_sample(n_way, n_support, n_query, train_x, train_y, prob_type, include_COVID=True)\n",
        "      optimizer.zero_grad()\n",
        "      loss, output = model.set_forward_loss(sample)\n",
        "\n",
        "      running_loss += output['loss']\n",
        "      running_acc_sklearn += output['accuracy']\n",
        "      running_precision += output['precision']\n",
        "      running_recall += output['recall']\n",
        "\n",
        "      loss.backward()\n",
        "      optimizer.step()\n",
        "    \n",
        "    epoch_loss = running_loss / epoch_size\n",
        "    epoch_acc_sklearn = running_acc_sklearn / epoch_size\n",
        "    epoch_precision = running_precision / epoch_size\n",
        "    epoch_recall = running_recall / epoch_size\n",
        "\n",
        "    print('Epoch {:d} -- Loss: {:.4f} Acc: {:.4f}'.format(epoch+1,epoch_loss, epoch_acc_sklearn))\n",
        "    for i in range(0, len(epoch_precision)): \n",
        "      print('class {:d} -- Precision: {:.4f} Recall: {:.4f}'.format(i, epoch_precision[i], epoch_recall[i]))\n",
        "\n",
        "    epoch += 1\n",
        "    scheduler.step()"
      ]
    },
    {
      "cell_type": "code",
      "execution_count": 2,
      "metadata": {
        "colab": {
          "base_uri": "https://localhost:8080/",
          "height": 415,
          "referenced_widgets": [
            "354ff4f3b4b345c7ad45baf14dd97697",
            "7c610bbed40d4fb39a0760b4df77eb11",
            "53a6eab0481641c9b343d046fd359bf2",
            "dec17b0625d2425185176b03d21b708d",
            "433334ef070a4ab1bfc6eece6b63be26",
            "3c2fa22131854ca2a7dfcec34d65af3b",
            "0f194ec785074660a9d6c770b21f46cc",
            "a9b59b5124194f71bb18fc7974cd83cf",
            "3ab3a4e2141b4ed39cc7d968408778ca",
            "4aa655fcf6c649af9de66384158f8c7c",
            "439f3b59d789406497d737c0b76c0156",
            "e3078c751ecc47438e93291fe5607aab",
            "ffad4c75083c4a0f8d98c5d38a1aba6d",
            "332c8800dc73423396e50c23030e8105",
            "afd69d485c10453a815faf5ead6c2b3f",
            "ca629333d0e2483c8f225b75202eaf3a",
            "6de2fbeb393949f297c34f756129e4d8",
            "62808217a43e4a3a87c8da4082b29801",
            "8fffaaff836540099e20a73f9f1f6abc",
            "fb3fb76cfab94e18950b7fa8280d6bfa",
            "6b8609a3fe9f467ea909cfe0b799da19",
            "f7adceb9304448959f8c3bf33f31e7b9",
            "07aef15d3b664adb8ffa4077ba205959",
            "581656713b1646959f70a3420fb75960",
            "bb5117fc52f6431abf7245060f2dd744",
            "f6376e0638cb4ba498ef5e7ad489cf8b",
            "46bb6b64cfa947e8922be526cfa4794b",
            "e4b1686fa03842269d519d582733589d",
            "e338741c7df649fa8e4e6d3f64a9f071",
            "4127de7c3f8a470e96c3cf1b863be977",
            "c196876b6b2745d7ba47cd3706fdf420",
            "7873a43a0ddb48d09f18c4d72b49c568",
            "c6bda37e4b0d42d682a70b496890f92f",
            "61783bd49f8844de812269790bc1041e",
            "2684d578ea46469ea0c42feaeab77fd1",
            "972ae0de8c254498aa37dd62cd604006",
            "5a8ead812af4455c9c1e8ada1b3209c5",
            "eacf30e249ac42daa5db07901bdbbe60",
            "5ffaebc261e946d29a141caaea4f5fdd",
            "0755d3d34cea44bb85d1a560618554b4"
          ]
        },
        "colab_type": "code",
        "id": "7uMy99qE-Ed6",
        "outputId": "381c6974-97a2-4d64-c849-04140e86f5fc"
      },
      "outputs": [
        {
          "name": "stdout",
          "output_type": "stream",
          "text": [
            "CPU times: user 2 µs, sys: 0 ns, total: 2 µs\n",
            "Wall time: 3.1 µs\n"
          ]
        }
      ],
      "source": [
        "%%time\n",
        "\n",
        "model = load_protonet_conv(1, 4)\n",
        "\n",
        "optimizer = optim.Adam(model.parameters(), lr = 0.001)\n",
        "\n",
        "n_way = 2\n",
        "n_support = 5 \n",
        "n_query = 5\n",
        "\n",
        "train_x = trainx\n",
        "train_y = trainy\n",
        "\n",
        "max_epoch = 1\n",
        "epoch_size = 10\n",
        "\n",
        "train(model, optimizer, 2, train_x, train_y, n_way, n_support, n_query, max_epoch, epoch_size)"
      ]
    },
    {
      "cell_type": "markdown",
      "metadata": {
        "colab_type": "text",
        "id": "pJu50gOb8WxU"
      },
      "source": [
        "## Test"
      ]
    },
    {
      "cell_type": "code",
      "execution_count": 15,
      "metadata": {},
      "outputs": [],
      "source": [
        "def test(model, test_x, test_y, n_way, n_support, n_query, test_episode):\n",
        "  \"\"\"\n",
        "  Tests the protonet\n",
        "  Args:\n",
        "      model: trained model\n",
        "      test_x (np.array): images of testing set\n",
        "      test_y (np.array): labels of testing set\n",
        "      n_way (int): number of classes in a classification task\n",
        "      n_support (int): number of labeled examples per class in the support set\n",
        "      n_query (int): number of labeled examples per class in the query set\n",
        "      test_episode (int): number of episodes to test on\n",
        "  \"\"\"\n",
        "  running_loss = 0.0\n",
        "  running_accuracy = 0.0\n",
        "  running_precision = 0.0\n",
        "  running_recall = 0.0\n",
        "  for episode in tnrange(test_episode):\n",
        "    with torch.no_grad(): \n",
        "      sample = extract_sample(n_way, n_support, n_query, test_x, test_y, include_COVID=True)\n",
        "      loss, output = model.set_forward_loss(sample)\n",
        "    running_loss += output['loss']\n",
        "    running_accuracy += output['accuracy']\n",
        "    running_precision += output['precision']\n",
        "    running_recall += output['recall']\n",
        "\n",
        "  avg_loss = running_loss / test_episode\n",
        "  avg_acc = running_accuracy / test_episode\n",
        "  avg_precision = running_precision / test_episode\n",
        "  avg_recall = running_recall / test_episode\n",
        "\n",
        "  print('-- Loss: {:.4f} Acc: {:.4f}'.format(avg_loss, avg_acc))\n",
        "  for i in range(0, len(avg_precision)): \n",
        "    print('class {:d} -- Precision: {:.4f} Recall: {:.4f}'.format(i, avg_precision[i], avg_recall[i]))\n"
      ]
    },
    {
      "cell_type": "code",
      "execution_count": 16,
      "metadata": {
        "colab": {
          "base_uri": "https://localhost:8080/",
          "height": 136,
          "referenced_widgets": [
            "3538da61a2cf40a59ec5df42b1e26a34",
            "0b8997593eda4dfc9d8864bb479600ea",
            "76f6236cddda43288fbe15c6cb9ca931",
            "3deca364207045bb910b85dd3cb8b95d",
            "452720b5c47c4f2591cc2474da697b5f",
            "8c13a9024b7645b7a556a750459aa40f",
            "5df809cf3af640e88e455d0270dbc646",
            "e0159f02b312472889bba9086f2cc881"
          ]
        },
        "colab_type": "code",
        "id": "yvyja6x3I6JB",
        "outputId": "3217c86f-5817-420e-d417-21a4af6546b9"
      },
      "outputs": [],
      "source": [
        "n_way = 4\n",
        "n_support = 5\n",
        "n_query = 5\n",
        "\n",
        "test_x = testx\n",
        "test_y = testy\n",
        "\n",
        "test_episode = 200\n",
        "\n",
        "test(model, test_x, test_y, n_way, n_support, n_query, test_episode)"
      ]
    },
    {
      "cell_type": "markdown",
      "metadata": {},
      "source": [
        "# GradCam Analysis \n",
        "- check interpretability of the model (last conv layer)"
      ]
    },
    {
      "cell_type": "code",
      "execution_count": 2,
      "metadata": {},
      "outputs": [],
      "source": [
        "from torchvision.models import resnet50 \n",
        "from torchvision.models import vgg16\n",
        "encoder_50 = resnet50(pretrained=True)\n",
        "encoder_vgg16 = vgg16(pretrained=True)"
      ]
    },
    {
      "cell_type": "code",
      "execution_count": 17,
      "metadata": {},
      "outputs": [
        {
          "data": {
            "text/plain": [
              "<All keys matched successfully>"
            ]
          },
          "execution_count": 17,
          "metadata": {},
          "output_type": "execute_result"
        }
      ],
      "source": [
        "model = load_protonet_conv(1) #change fc = 2 or 4\n",
        "model.load_state_dict(torch.load('./models_LUSS_cropped/resnet18.pth', map_location=torch.device('cpu') ))"
      ]
    },
    {
      "cell_type": "code",
      "execution_count": 18,
      "metadata": {},
      "outputs": [],
      "source": [
        "# define sets of images for grad-cam testing. \n",
        "gradcamx, gradcamy = read_images('path_to_directory/explain_test')\n",
        "croppedx, croppedy = read_images('path_to_directory/cropped_explain_test')"
      ]
    },
    {
      "cell_type": "code",
      "execution_count": 19,
      "metadata": {},
      "outputs": [],
      "source": [
        "train_y_num = []\n",
        "for y in gradcamy: \n",
        "    train_y_num.append(0 if y==\"Normal\" else 1 if y==\"Other\" else 2 if y==\"Pneumonia\" else 3)\n",
        "\n",
        "gradcam_x = torch.tensor(np.asarray(gradcamx).astype(int))\n",
        "gradcam_y=torch.tensor(np.asarray(train_y_num).astype(int))"
      ]
    },
    {
      "cell_type": "code",
      "execution_count": 20,
      "metadata": {},
      "outputs": [],
      "source": [
        "train_y_num = []\n",
        "for y in croppedy: \n",
        "    train_y_num.append(0 if y==\"Normal\" else 1 if y==\"Other\" else 2 if y==\"Pneumonia\" else 3)\n",
        "cropped_x = torch.tensor(np.asarray(croppedx).astype(int))\n",
        "cropped_y=torch.tensor(np.asarray(train_y_num).astype(int))"
      ]
    },
    {
      "cell_type": "code",
      "execution_count": 21,
      "metadata": {},
      "outputs": [
        {
          "name": "stderr",
          "output_type": "stream",
          "text": [
            "Clipping input data to the valid range for imshow with RGB data ([0..1] for floats or [0..255] for integers).\n"
          ]
        },
        {
          "name": "stdout",
          "output_type": "stream",
          "text": [
            "[0, 1]\n"
          ]
        },
        {
          "data": {
            "image/png": "[encoded data removed]",
            "text/plain": [
              "<Figure size 1152x504 with 1 Axes>"
            ]
          },
          "metadata": {
            "needs_background": "light"
          },
          "output_type": "display_data"
        }
      ],
      "source": [
        "sample_example = extract_sample(2, 5, 2, cropped_x, cropped_y, 2, include_COVID=True)\n",
        "print(sample_example['sample_class'])\n",
        "display_sample(sample_example['images'])"
      ]
    },
    {
      "cell_type": "code",
      "execution_count": 22,
      "metadata": {},
      "outputs": [],
      "source": [
        "# produce true positives, true negatives, false positives and false negatives\n",
        "def test_gradcam(model, test_x, test_y, n_way, n_support, n_query, test_episode):\n",
        "  \"\"\"\n",
        "  Tests the protonet\n",
        "  Args:\n",
        "      model: trained model\n",
        "      test_x (np.array): images of testing set\n",
        "      test_y (np.array): labels of testing set\n",
        "      n_way (int): number of classes in a classification task\n",
        "      n_support (int): number of labeled examples per class in the support set\n",
        "      n_query (int): number of labeled examples per class in the query set\n",
        "      test_episode (int): number of episodes to test on\n",
        "  \"\"\"\n",
        "  target_index = 1 ###### CHANGE FOR BINARY VS 4 CLASSES to 1 in binary######\n",
        "\n",
        "  opposing_target_index = 0 \n",
        "\n",
        "  running_loss = 0.0\n",
        "  running_accuracy = 0.0\n",
        "  running_precision = 0.0\n",
        "  running_recall = 0.0\n",
        "  \n",
        "  true_pos = 0\n",
        "  true_neg = 0\n",
        "  false_pos = 0\n",
        "  false_neg = 0\n",
        "  true_pos_possibility = 0\n",
        "  true_neg_possibility = 0 \n",
        "  \n",
        "  for episode in tnrange(test_episode):\n",
        "    with torch.no_grad(): \n",
        "      sample = extract_sample(n_way, n_support, n_query, test_x, test_y, 2, include_COVID=True)\n",
        "      loss, output = model.set_forward_loss(sample)\n",
        "    running_loss += output['loss']\n",
        "    running_accuracy += output['accuracy']\n",
        "    running_precision += output['precision']\n",
        "    running_recall += output['recall']\n",
        "\n",
        "    possibility = output['possibility']\n",
        "    y_true = output['y_true_np']\n",
        "    y_pred = output['y_pred_np']\n",
        "    query_samples = output['x_query']\n",
        "    \n",
        "    # get true positives and their associated predicted possibilities\n",
        "    if y_true[target_index] == y_pred[target_index]: \n",
        "      if type(true_pos) == int and type(true_pos_possibility) == int: \n",
        "        true_pos = query_samples[target_index]\n",
        "        true_pos_possibility = possibility[target_index]\n",
        "      else: \n",
        "        true_pos = torch.cat((true_pos, query_samples[target_index]), dim=0)\n",
        "        true_pos_possibility = torch.cat((true_pos_possibility, possibility[target_index]), dim=0)\n",
        "    \n",
        "    if y_true[opposing_target_index] == y_pred[opposing_target_index]: \n",
        "      if type(true_neg) == int:\n",
        "        true_neg = query_samples[opposing_target_index]\n",
        "        true_neg_possibility = possibility[opposing_target_index]\n",
        "      else: \n",
        "        true_neg = torch.cat((true_neg, query_samples[opposing_target_index]), dim=0)\n",
        "        true_neg_possibility = torch.cat((true_neg_possibility, possibility[opposing_target_index]), dim=0)\n",
        "    \n",
        "    # get falses\n",
        "    # for i,pred in enumerate(y_pred): \n",
        "    # false positives: take a normal image as a COVID image\n",
        "    if y_pred[opposing_target_index] == target_index: \n",
        "      if type(false_pos) == int:\n",
        "        false_pos = query_samples[opposing_target_index]\n",
        "      else: \n",
        "        false_pos = torch.cat((false_pos, query_samples[opposing_target_index]), dim=0)\n",
        "    # false negatives: take a COVID image as normal\n",
        "    elif y_pred[target_index] == opposing_target_index: \n",
        "      if type(false_neg) == int:\n",
        "        false_neg = query_samples[target_index]\n",
        "      else: \n",
        "        false_neg = torch.cat((false_neg, query_samples[target_index]), dim=0)\n",
        "\n",
        "  avg_loss = running_loss / test_episode\n",
        "  avg_acc = running_accuracy / test_episode\n",
        "  avg_precision = running_precision / test_episode\n",
        "  avg_recall = running_recall / test_episode\n",
        "\n",
        "  print(true_pos.shape) if type(true_pos) != int else print(\"true_pos == 0\")\n",
        "  print(true_neg.shape) if type(true_neg) != int else print(\"true_neg == 0\")\n",
        "  print(false_pos.shape) if type(false_pos) != int else print(\"false_pos == 0\")\n",
        "  print(false_neg.shape) if type(false_neg) != int else print(\"false_neg == 0\")\n",
        "\n",
        "  print('-- Loss: {:.4f} Acc: {:.4f}'.format(avg_loss, avg_acc))\n",
        "  for i in range(0, len(avg_precision)): \n",
        "    print('class {:d} -- Precision: {:.4f} Recall: {:.4f}'.format(i, avg_precision[i], avg_recall[i]))\n",
        "\n",
        "  return true_pos, true_pos_possibility, true_neg, true_neg_possibility, false_pos, false_neg"
      ]
    },
    {
      "cell_type": "code",
      "execution_count": 23,
      "metadata": {},
      "outputs": [
        {
          "data": {
            "application/vnd.jupyter.widget-view+json": {
              "model_id": "b696ebbc559d4cc4ba22ecd7b054553f",
              "version_major": 2,
              "version_minor": 0
            },
            "text/plain": [
              "  0%|          | 0/200 [00:00<?, ?it/s]"
            ]
          },
          "metadata": {},
          "output_type": "display_data"
        },
        {
          "name": "stdout",
          "output_type": "stream",
          "text": [
            "torch.Size([171, 3, 224, 224])\n",
            "torch.Size([173, 3, 224, 224])\n",
            "torch.Size([27, 3, 224, 224])\n",
            "torch.Size([24, 3, 224, 224])\n",
            "-- Loss: 0.4257 Acc: 0.8600\n",
            "class 0 -- Precision: 0.9150 Recall: 0.8650\n",
            "class 1 -- Precision: 0.9200 Recall: 0.8550\n"
          ]
        }
      ],
      "source": [
        "n_support = 5\n",
        "n_query = 1\n",
        "n_way = 2\n",
        "episode = 200\n",
        "\n",
        "true_pos, true_pos_possibility, true_neg, true_neg_possibility, false_pos, false_neg = test_gradcam(model, cropped_x, cropped_y, n_way, n_support, n_query, episode)"
      ]
    },
    {
      "cell_type": "code",
      "execution_count": 8,
      "metadata": {},
      "outputs": [],
      "source": [
        "from pytorch_grad_cam import GradCAM \n",
        "from pytorch_grad_cam.utils.image import show_cam_on_image\n",
        "from torchvision.models import resnet18\n",
        "\n",
        "def get_visualization_gradcam(model, input, index):\n",
        "    # model = resnet18(pretrained=True)\n",
        "    target_layers = [model.layer4[-1]]\n",
        "    input_tensor = input / 255\n",
        "    rgb_img = input_tensor[index].permute(1,2,0).cpu().detach().numpy()\n",
        "\n",
        "    # Construct the CAM object once, and then re-use it on many images:\n",
        "    cam = GradCAM(model=model, target_layers=target_layers, use_cuda=False)\n",
        "    grayscale_cam = cam(input_tensor=input_tensor, targets=None)\n",
        "\n",
        "    # In this example grayscale_cam has only one image in the batch:\n",
        "    grayscale_cam = grayscale_cam[index, :]\n",
        "    visualization = show_cam_on_image(rgb_img, grayscale_cam, use_rgb=True)\n",
        "\n",
        "    return visualization"
      ]
    },
    {
      "cell_type": "code",
      "execution_count": 9,
      "metadata": {},
      "outputs": [],
      "source": [
        "encoder_18 = resnet18(pretrained=True)\n",
        "\n",
        "# get all in false_neg and false_pos \n",
        "def get_images(encoder, image_array, array_type):\n",
        "    for i in range(0, image_array.shape[0]): \n",
        "        visualization = get_visualization_gradcam(encoder, image_array, i)\n",
        "        cam_image = cv2.cvtColor(visualization, cv2.COLOR_RGB2BGR)\n",
        "        cam_path = f'path_to_save_images/{array_type}_{i}.jpg'\n",
        "        cv2.imwrite(cam_path, cam_image)\n",
        "\n",
        "        orig = image_array[i].permute(1,2,0).cpu().detach().numpy()\n",
        "        orig_image = cv2.cvtColor(orig, cv2.COLOR_RGB2BGR)\n",
        "        orig_path = f'path_to_save_images/{array_type}_{i}.jpg'\n",
        "        cv2.imwrite(orig_path, orig_image)\n",
        "    print(image_array.shape[0])"
      ]
    },
    {
      "cell_type": "code",
      "execution_count": 149,
      "metadata": {},
      "outputs": [
        {
          "name": "stdout",
          "output_type": "stream",
          "text": [
            "9\n"
          ]
        }
      ],
      "source": [
        "get_images(encoder_18, false_pos, \"false_pos\") "
      ]
    },
    {
      "cell_type": "code",
      "execution_count": 150,
      "metadata": {},
      "outputs": [
        {
          "name": "stdout",
          "output_type": "stream",
          "text": [
            "10\n"
          ]
        }
      ],
      "source": [
        "get_images(encoder_18, false_neg, \"false_neg\")"
      ]
    },
    {
      "cell_type": "code",
      "execution_count": 26,
      "metadata": {},
      "outputs": [
        {
          "data": {
            "text/plain": [
              "torch.Size([72, 3, 224, 224])"
            ]
          },
          "execution_count": 26,
          "metadata": {},
          "output_type": "execute_result"
        }
      ],
      "source": [
        "## for true_neg and true_pos, select some with high possibility (e^true_pos_possibility to get percentage confidence)\n",
        "pos = torch.exp(true_pos_possibility[:,1])  ###### NEED TO CHANGE FOR BINARY VS 4 CLASSES ######\n",
        "high_true_pos = pos>0.9999\n",
        "selected_true_pos = true_pos[high_true_pos, :,:,:]\n",
        "selected_true_pos.shape"
      ]
    },
    {
      "cell_type": "code",
      "execution_count": 27,
      "metadata": {},
      "outputs": [
        {
          "name": "stdout",
          "output_type": "stream",
          "text": [
            "72\n"
          ]
        }
      ],
      "source": [
        "get_images(encoder_18, selected_true_pos, \"selected_true_pos\")"
      ]
    },
    {
      "cell_type": "code",
      "execution_count": 146,
      "metadata": {},
      "outputs": [
        {
          "data": {
            "text/plain": [
              "torch.Size([77, 3, 224, 224])"
            ]
          },
          "execution_count": 146,
          "metadata": {},
          "output_type": "execute_result"
        }
      ],
      "source": [
        "pos = torch.exp(true_neg_possibility[:,0])\n",
        "high_true_neg = pos>0.99999997\n",
        "\n",
        "selected_true_neg = true_neg[high_true_neg, :,:,:]\n",
        "selected_true_neg.shape"
      ]
    },
    {
      "cell_type": "code",
      "execution_count": 147,
      "metadata": {},
      "outputs": [
        {
          "name": "stdout",
          "output_type": "stream",
          "text": [
            "20\n"
          ]
        }
      ],
      "source": [
        "get_images(encoder_18, selected_true_neg[:20,:,:,:], \"selected_true_neg\")"
      ]
    }
  ],
  "metadata": {
    "accelerator": "GPU",
    "colab": {
      "authorship_tag": "ABX9TyPAtXl90T5jDI8j5NvKrhdF",
      "collapsed_sections": [],
      "include_colab_link": true,
      "name": "prototypical_networks_pytorch_omniglot.ipynb",
      "provenance": [],
      "toc_visible": true
    },
    "kernelspec": {
      "display_name": "COVID_US",
      "language": "python",
      "name": "python3"
    },
    "language_info": {
      "codemirror_mode": {
        "name": "ipython",
        "version": 3
      },
      "file_extension": ".py",
      "mimetype": "text/x-python",
      "name": "python",
      "nbconvert_exporter": "python",
      "pygments_lexer": "ipython3",
      "version": "3.9.9"
    },
    "vscode": {
      "interpreter": {
        "hash": "03af6331f243bb75eaf6d35e4fe821f940729f7853d88df7e84b13da7b87e7fe"
      }
    },
    "widgets": {
      "application/vnd.jupyter.widget-state+json": {
        "0755d3d34cea44bb85d1a560618554b4": {
          "model_module": "@jupyter-widgets/base",
          "model_name": "LayoutModel",
          "state": {
            "_model_module": "@jupyter-widgets/base",
            "_model_module_version": "1.2.0",
            "_model_name": "LayoutModel",
            "_view_count": null,
            "_view_module": "@jupyter-widgets/base",
            "_view_module_version": "1.2.0",
            "_view_name": "LayoutView",
            "align_content": null,
            "align_items": null,
            "align_self": null,
            "border": null,
            "bottom": null,
            "display": null,
            "flex": null,
            "flex_flow": null,
            "grid_area": null,
            "grid_auto_columns": null,
            "grid_auto_flow": null,
            "grid_auto_rows": null,
            "grid_column": null,
            "grid_gap": null,
            "grid_row": null,
            "grid_template_areas": null,
            "grid_template_columns": null,
            "grid_template_rows": null,
            "height": null,
            "justify_content": null,
            "justify_items": null,
            "left": null,
            "margin": null,
            "max_height": null,
            "max_width": null,
            "min_height": null,
            "min_width": null,
            "object_fit": null,
            "object_position": null,
            "order": null,
            "overflow": null,
            "overflow_x": null,
            "overflow_y": null,
            "padding": null,
            "right": null,
            "top": null,
            "visibility": null,
            "width": null
          }
        },
        "07aef15d3b664adb8ffa4077ba205959": {
          "model_module": "@jupyter-widgets/controls",
          "model_name": "DescriptionStyleModel",
          "state": {
            "_model_module": "@jupyter-widgets/controls",
            "_model_module_version": "1.5.0",
            "_model_name": "DescriptionStyleModel",
            "_view_count": null,
            "_view_module": "@jupyter-widgets/base",
            "_view_module_version": "1.2.0",
            "_view_name": "StyleView",
            "description_width": ""
          }
        },
        "0b8997593eda4dfc9d8864bb479600ea": {
          "model_module": "@jupyter-widgets/base",
          "model_name": "LayoutModel",
          "state": {
            "_model_module": "@jupyter-widgets/base",
            "_model_module_version": "1.2.0",
            "_model_name": "LayoutModel",
            "_view_count": null,
            "_view_module": "@jupyter-widgets/base",
            "_view_module_version": "1.2.0",
            "_view_name": "LayoutView",
            "align_content": null,
            "align_items": null,
            "align_self": null,
            "border": null,
            "bottom": null,
            "display": null,
            "flex": null,
            "flex_flow": null,
            "grid_area": null,
            "grid_auto_columns": null,
            "grid_auto_flow": null,
            "grid_auto_rows": null,
            "grid_column": null,
            "grid_gap": null,
            "grid_row": null,
            "grid_template_areas": null,
            "grid_template_columns": null,
            "grid_template_rows": null,
            "height": null,
            "justify_content": null,
            "justify_items": null,
            "left": null,
            "margin": null,
            "max_height": null,
            "max_width": null,
            "min_height": null,
            "min_width": null,
            "object_fit": null,
            "object_position": null,
            "order": null,
            "overflow": null,
            "overflow_x": null,
            "overflow_y": null,
            "padding": null,
            "right": null,
            "top": null,
            "visibility": null,
            "width": null
          }
        },
        "0f194ec785074660a9d6c770b21f46cc": {
          "model_module": "@jupyter-widgets/controls",
          "model_name": "DescriptionStyleModel",
          "state": {
            "_model_module": "@jupyter-widgets/controls",
            "_model_module_version": "1.5.0",
            "_model_name": "DescriptionStyleModel",
            "_view_count": null,
            "_view_module": "@jupyter-widgets/base",
            "_view_module_version": "1.2.0",
            "_view_name": "StyleView",
            "description_width": ""
          }
        },
        "2684d578ea46469ea0c42feaeab77fd1": {
          "model_module": "@jupyter-widgets/controls",
          "model_name": "FloatProgressModel",
          "state": {
            "_dom_classes": [],
            "_model_module": "@jupyter-widgets/controls",
            "_model_module_version": "1.5.0",
            "_model_name": "FloatProgressModel",
            "_view_count": null,
            "_view_module": "@jupyter-widgets/controls",
            "_view_module_version": "1.5.0",
            "_view_name": "ProgressView",
            "bar_style": "success",
            "description": "Epoch 5 train: 100%",
            "description_tooltip": null,
            "layout": "IPY_MODEL_eacf30e249ac42daa5db07901bdbbe60",
            "max": 2000,
            "min": 0,
            "orientation": "horizontal",
            "style": "IPY_MODEL_5a8ead812af4455c9c1e8ada1b3209c5",
            "value": 2000
          }
        },
        "332c8800dc73423396e50c23030e8105": {
          "model_module": "@jupyter-widgets/base",
          "model_name": "LayoutModel",
          "state": {
            "_model_module": "@jupyter-widgets/base",
            "_model_module_version": "1.2.0",
            "_model_name": "LayoutModel",
            "_view_count": null,
            "_view_module": "@jupyter-widgets/base",
            "_view_module_version": "1.2.0",
            "_view_name": "LayoutView",
            "align_content": null,
            "align_items": null,
            "align_self": null,
            "border": null,
            "bottom": null,
            "display": null,
            "flex": null,
            "flex_flow": null,
            "grid_area": null,
            "grid_auto_columns": null,
            "grid_auto_flow": null,
            "grid_auto_rows": null,
            "grid_column": null,
            "grid_gap": null,
            "grid_row": null,
            "grid_template_areas": null,
            "grid_template_columns": null,
            "grid_template_rows": null,
            "height": null,
            "justify_content": null,
            "justify_items": null,
            "left": null,
            "margin": null,
            "max_height": null,
            "max_width": null,
            "min_height": null,
            "min_width": null,
            "object_fit": null,
            "object_position": null,
            "order": null,
            "overflow": null,
            "overflow_x": null,
            "overflow_y": null,
            "padding": null,
            "right": null,
            "top": null,
            "visibility": null,
            "width": null
          }
        },
        "3538da61a2cf40a59ec5df42b1e26a34": {
          "model_module": "@jupyter-widgets/controls",
          "model_name": "HBoxModel",
          "state": {
            "_dom_classes": [],
            "_model_module": "@jupyter-widgets/controls",
            "_model_module_version": "1.5.0",
            "_model_name": "HBoxModel",
            "_view_count": null,
            "_view_module": "@jupyter-widgets/controls",
            "_view_module_version": "1.5.0",
            "_view_name": "HBoxView",
            "box_style": "",
            "children": [
              "IPY_MODEL_76f6236cddda43288fbe15c6cb9ca931",
              "IPY_MODEL_3deca364207045bb910b85dd3cb8b95d"
            ],
            "layout": "IPY_MODEL_0b8997593eda4dfc9d8864bb479600ea"
          }
        },
        "354ff4f3b4b345c7ad45baf14dd97697": {
          "model_module": "@jupyter-widgets/controls",
          "model_name": "HBoxModel",
          "state": {
            "_dom_classes": [],
            "_model_module": "@jupyter-widgets/controls",
            "_model_module_version": "1.5.0",
            "_model_name": "HBoxModel",
            "_view_count": null,
            "_view_module": "@jupyter-widgets/controls",
            "_view_module_version": "1.5.0",
            "_view_name": "HBoxView",
            "box_style": "",
            "children": [
              "IPY_MODEL_53a6eab0481641c9b343d046fd359bf2",
              "IPY_MODEL_dec17b0625d2425185176b03d21b708d"
            ],
            "layout": "IPY_MODEL_7c610bbed40d4fb39a0760b4df77eb11"
          }
        },
        "3ab3a4e2141b4ed39cc7d968408778ca": {
          "model_module": "@jupyter-widgets/controls",
          "model_name": "HBoxModel",
          "state": {
            "_dom_classes": [],
            "_model_module": "@jupyter-widgets/controls",
            "_model_module_version": "1.5.0",
            "_model_name": "HBoxModel",
            "_view_count": null,
            "_view_module": "@jupyter-widgets/controls",
            "_view_module_version": "1.5.0",
            "_view_name": "HBoxView",
            "box_style": "",
            "children": [
              "IPY_MODEL_439f3b59d789406497d737c0b76c0156",
              "IPY_MODEL_e3078c751ecc47438e93291fe5607aab"
            ],
            "layout": "IPY_MODEL_4aa655fcf6c649af9de66384158f8c7c"
          }
        },
        "3c2fa22131854ca2a7dfcec34d65af3b": {
          "model_module": "@jupyter-widgets/base",
          "model_name": "LayoutModel",
          "state": {
            "_model_module": "@jupyter-widgets/base",
            "_model_module_version": "1.2.0",
            "_model_name": "LayoutModel",
            "_view_count": null,
            "_view_module": "@jupyter-widgets/base",
            "_view_module_version": "1.2.0",
            "_view_name": "LayoutView",
            "align_content": null,
            "align_items": null,
            "align_self": null,
            "border": null,
            "bottom": null,
            "display": null,
            "flex": null,
            "flex_flow": null,
            "grid_area": null,
            "grid_auto_columns": null,
            "grid_auto_flow": null,
            "grid_auto_rows": null,
            "grid_column": null,
            "grid_gap": null,
            "grid_row": null,
            "grid_template_areas": null,
            "grid_template_columns": null,
            "grid_template_rows": null,
            "height": null,
            "justify_content": null,
            "justify_items": null,
            "left": null,
            "margin": null,
            "max_height": null,
            "max_width": null,
            "min_height": null,
            "min_width": null,
            "object_fit": null,
            "object_position": null,
            "order": null,
            "overflow": null,
            "overflow_x": null,
            "overflow_y": null,
            "padding": null,
            "right": null,
            "top": null,
            "visibility": null,
            "width": null
          }
        },
        "3deca364207045bb910b85dd3cb8b95d": {
          "model_module": "@jupyter-widgets/controls",
          "model_name": "HTMLModel",
          "state": {
            "_dom_classes": [],
            "_model_module": "@jupyter-widgets/controls",
            "_model_module_version": "1.5.0",
            "_model_name": "HTMLModel",
            "_view_count": null,
            "_view_module": "@jupyter-widgets/controls",
            "_view_module_version": "1.5.0",
            "_view_name": "HTMLView",
            "description": "",
            "description_tooltip": null,
            "layout": "IPY_MODEL_e0159f02b312472889bba9086f2cc881",
            "placeholder": "​",
            "style": "IPY_MODEL_5df809cf3af640e88e455d0270dbc646",
            "value": " 1000/1000 [22:56&lt;00:00,  1.38s/it]"
          }
        },
        "4127de7c3f8a470e96c3cf1b863be977": {
          "model_module": "@jupyter-widgets/base",
          "model_name": "LayoutModel",
          "state": {
            "_model_module": "@jupyter-widgets/base",
            "_model_module_version": "1.2.0",
            "_model_name": "LayoutModel",
            "_view_count": null,
            "_view_module": "@jupyter-widgets/base",
            "_view_module_version": "1.2.0",
            "_view_name": "LayoutView",
            "align_content": null,
            "align_items": null,
            "align_self": null,
            "border": null,
            "bottom": null,
            "display": null,
            "flex": null,
            "flex_flow": null,
            "grid_area": null,
            "grid_auto_columns": null,
            "grid_auto_flow": null,
            "grid_auto_rows": null,
            "grid_column": null,
            "grid_gap": null,
            "grid_row": null,
            "grid_template_areas": null,
            "grid_template_columns": null,
            "grid_template_rows": null,
            "height": null,
            "justify_content": null,
            "justify_items": null,
            "left": null,
            "margin": null,
            "max_height": null,
            "max_width": null,
            "min_height": null,
            "min_width": null,
            "object_fit": null,
            "object_position": null,
            "order": null,
            "overflow": null,
            "overflow_x": null,
            "overflow_y": null,
            "padding": null,
            "right": null,
            "top": null,
            "visibility": null,
            "width": null
          }
        },
        "433334ef070a4ab1bfc6eece6b63be26": {
          "model_module": "@jupyter-widgets/controls",
          "model_name": "ProgressStyleModel",
          "state": {
            "_model_module": "@jupyter-widgets/controls",
            "_model_module_version": "1.5.0",
            "_model_name": "ProgressStyleModel",
            "_view_count": null,
            "_view_module": "@jupyter-widgets/base",
            "_view_module_version": "1.2.0",
            "_view_name": "StyleView",
            "bar_color": null,
            "description_width": "initial"
          }
        },
        "439f3b59d789406497d737c0b76c0156": {
          "model_module": "@jupyter-widgets/controls",
          "model_name": "FloatProgressModel",
          "state": {
            "_dom_classes": [],
            "_model_module": "@jupyter-widgets/controls",
            "_model_module_version": "1.5.0",
            "_model_name": "FloatProgressModel",
            "_view_count": null,
            "_view_module": "@jupyter-widgets/controls",
            "_view_module_version": "1.5.0",
            "_view_name": "ProgressView",
            "bar_style": "success",
            "description": "Epoch 2 train: 100%",
            "description_tooltip": null,
            "layout": "IPY_MODEL_332c8800dc73423396e50c23030e8105",
            "max": 2000,
            "min": 0,
            "orientation": "horizontal",
            "style": "IPY_MODEL_ffad4c75083c4a0f8d98c5d38a1aba6d",
            "value": 2000
          }
        },
        "452720b5c47c4f2591cc2474da697b5f": {
          "model_module": "@jupyter-widgets/controls",
          "model_name": "ProgressStyleModel",
          "state": {
            "_model_module": "@jupyter-widgets/controls",
            "_model_module_version": "1.5.0",
            "_model_name": "ProgressStyleModel",
            "_view_count": null,
            "_view_module": "@jupyter-widgets/base",
            "_view_module_version": "1.2.0",
            "_view_name": "StyleView",
            "bar_color": null,
            "description_width": "initial"
          }
        },
        "46bb6b64cfa947e8922be526cfa4794b": {
          "model_module": "@jupyter-widgets/controls",
          "model_name": "FloatProgressModel",
          "state": {
            "_dom_classes": [],
            "_model_module": "@jupyter-widgets/controls",
            "_model_module_version": "1.5.0",
            "_model_name": "FloatProgressModel",
            "_view_count": null,
            "_view_module": "@jupyter-widgets/controls",
            "_view_module_version": "1.5.0",
            "_view_name": "ProgressView",
            "bar_style": "success",
            "description": "Epoch 4 train: 100%",
            "description_tooltip": null,
            "layout": "IPY_MODEL_4127de7c3f8a470e96c3cf1b863be977",
            "max": 2000,
            "min": 0,
            "orientation": "horizontal",
            "style": "IPY_MODEL_e338741c7df649fa8e4e6d3f64a9f071",
            "value": 2000
          }
        },
        "4aa655fcf6c649af9de66384158f8c7c": {
          "model_module": "@jupyter-widgets/base",
          "model_name": "LayoutModel",
          "state": {
            "_model_module": "@jupyter-widgets/base",
            "_model_module_version": "1.2.0",
            "_model_name": "LayoutModel",
            "_view_count": null,
            "_view_module": "@jupyter-widgets/base",
            "_view_module_version": "1.2.0",
            "_view_name": "LayoutView",
            "align_content": null,
            "align_items": null,
            "align_self": null,
            "border": null,
            "bottom": null,
            "display": null,
            "flex": null,
            "flex_flow": null,
            "grid_area": null,
            "grid_auto_columns": null,
            "grid_auto_flow": null,
            "grid_auto_rows": null,
            "grid_column": null,
            "grid_gap": null,
            "grid_row": null,
            "grid_template_areas": null,
            "grid_template_columns": null,
            "grid_template_rows": null,
            "height": null,
            "justify_content": null,
            "justify_items": null,
            "left": null,
            "margin": null,
            "max_height": null,
            "max_width": null,
            "min_height": null,
            "min_width": null,
            "object_fit": null,
            "object_position": null,
            "order": null,
            "overflow": null,
            "overflow_x": null,
            "overflow_y": null,
            "padding": null,
            "right": null,
            "top": null,
            "visibility": null,
            "width": null
          }
        },
        "53a6eab0481641c9b343d046fd359bf2": {
          "model_module": "@jupyter-widgets/controls",
          "model_name": "FloatProgressModel",
          "state": {
            "_dom_classes": [],
            "_model_module": "@jupyter-widgets/controls",
            "_model_module_version": "1.5.0",
            "_model_name": "FloatProgressModel",
            "_view_count": null,
            "_view_module": "@jupyter-widgets/controls",
            "_view_module_version": "1.5.0",
            "_view_name": "ProgressView",
            "bar_style": "success",
            "description": "Epoch 1 train: 100%",
            "description_tooltip": null,
            "layout": "IPY_MODEL_3c2fa22131854ca2a7dfcec34d65af3b",
            "max": 2000,
            "min": 0,
            "orientation": "horizontal",
            "style": "IPY_MODEL_433334ef070a4ab1bfc6eece6b63be26",
            "value": 2000
          }
        },
        "581656713b1646959f70a3420fb75960": {
          "model_module": "@jupyter-widgets/base",
          "model_name": "LayoutModel",
          "state": {
            "_model_module": "@jupyter-widgets/base",
            "_model_module_version": "1.2.0",
            "_model_name": "LayoutModel",
            "_view_count": null,
            "_view_module": "@jupyter-widgets/base",
            "_view_module_version": "1.2.0",
            "_view_name": "LayoutView",
            "align_content": null,
            "align_items": null,
            "align_self": null,
            "border": null,
            "bottom": null,
            "display": null,
            "flex": null,
            "flex_flow": null,
            "grid_area": null,
            "grid_auto_columns": null,
            "grid_auto_flow": null,
            "grid_auto_rows": null,
            "grid_column": null,
            "grid_gap": null,
            "grid_row": null,
            "grid_template_areas": null,
            "grid_template_columns": null,
            "grid_template_rows": null,
            "height": null,
            "justify_content": null,
            "justify_items": null,
            "left": null,
            "margin": null,
            "max_height": null,
            "max_width": null,
            "min_height": null,
            "min_width": null,
            "object_fit": null,
            "object_position": null,
            "order": null,
            "overflow": null,
            "overflow_x": null,
            "overflow_y": null,
            "padding": null,
            "right": null,
            "top": null,
            "visibility": null,
            "width": null
          }
        },
        "5a8ead812af4455c9c1e8ada1b3209c5": {
          "model_module": "@jupyter-widgets/controls",
          "model_name": "ProgressStyleModel",
          "state": {
            "_model_module": "@jupyter-widgets/controls",
            "_model_module_version": "1.5.0",
            "_model_name": "ProgressStyleModel",
            "_view_count": null,
            "_view_module": "@jupyter-widgets/base",
            "_view_module_version": "1.2.0",
            "_view_name": "StyleView",
            "bar_color": null,
            "description_width": "initial"
          }
        },
        "5df809cf3af640e88e455d0270dbc646": {
          "model_module": "@jupyter-widgets/controls",
          "model_name": "DescriptionStyleModel",
          "state": {
            "_model_module": "@jupyter-widgets/controls",
            "_model_module_version": "1.5.0",
            "_model_name": "DescriptionStyleModel",
            "_view_count": null,
            "_view_module": "@jupyter-widgets/base",
            "_view_module_version": "1.2.0",
            "_view_name": "StyleView",
            "description_width": ""
          }
        },
        "5ffaebc261e946d29a141caaea4f5fdd": {
          "model_module": "@jupyter-widgets/controls",
          "model_name": "DescriptionStyleModel",
          "state": {
            "_model_module": "@jupyter-widgets/controls",
            "_model_module_version": "1.5.0",
            "_model_name": "DescriptionStyleModel",
            "_view_count": null,
            "_view_module": "@jupyter-widgets/base",
            "_view_module_version": "1.2.0",
            "_view_name": "StyleView",
            "description_width": ""
          }
        },
        "61783bd49f8844de812269790bc1041e": {
          "model_module": "@jupyter-widgets/base",
          "model_name": "LayoutModel",
          "state": {
            "_model_module": "@jupyter-widgets/base",
            "_model_module_version": "1.2.0",
            "_model_name": "LayoutModel",
            "_view_count": null,
            "_view_module": "@jupyter-widgets/base",
            "_view_module_version": "1.2.0",
            "_view_name": "LayoutView",
            "align_content": null,
            "align_items": null,
            "align_self": null,
            "border": null,
            "bottom": null,
            "display": null,
            "flex": null,
            "flex_flow": null,
            "grid_area": null,
            "grid_auto_columns": null,
            "grid_auto_flow": null,
            "grid_auto_rows": null,
            "grid_column": null,
            "grid_gap": null,
            "grid_row": null,
            "grid_template_areas": null,
            "grid_template_columns": null,
            "grid_template_rows": null,
            "height": null,
            "justify_content": null,
            "justify_items": null,
            "left": null,
            "margin": null,
            "max_height": null,
            "max_width": null,
            "min_height": null,
            "min_width": null,
            "object_fit": null,
            "object_position": null,
            "order": null,
            "overflow": null,
            "overflow_x": null,
            "overflow_y": null,
            "padding": null,
            "right": null,
            "top": null,
            "visibility": null,
            "width": null
          }
        },
        "62808217a43e4a3a87c8da4082b29801": {
          "model_module": "@jupyter-widgets/base",
          "model_name": "LayoutModel",
          "state": {
            "_model_module": "@jupyter-widgets/base",
            "_model_module_version": "1.2.0",
            "_model_name": "LayoutModel",
            "_view_count": null,
            "_view_module": "@jupyter-widgets/base",
            "_view_module_version": "1.2.0",
            "_view_name": "LayoutView",
            "align_content": null,
            "align_items": null,
            "align_self": null,
            "border": null,
            "bottom": null,
            "display": null,
            "flex": null,
            "flex_flow": null,
            "grid_area": null,
            "grid_auto_columns": null,
            "grid_auto_flow": null,
            "grid_auto_rows": null,
            "grid_column": null,
            "grid_gap": null,
            "grid_row": null,
            "grid_template_areas": null,
            "grid_template_columns": null,
            "grid_template_rows": null,
            "height": null,
            "justify_content": null,
            "justify_items": null,
            "left": null,
            "margin": null,
            "max_height": null,
            "max_width": null,
            "min_height": null,
            "min_width": null,
            "object_fit": null,
            "object_position": null,
            "order": null,
            "overflow": null,
            "overflow_x": null,
            "overflow_y": null,
            "padding": null,
            "right": null,
            "top": null,
            "visibility": null,
            "width": null
          }
        },
        "6b8609a3fe9f467ea909cfe0b799da19": {
          "model_module": "@jupyter-widgets/controls",
          "model_name": "ProgressStyleModel",
          "state": {
            "_model_module": "@jupyter-widgets/controls",
            "_model_module_version": "1.5.0",
            "_model_name": "ProgressStyleModel",
            "_view_count": null,
            "_view_module": "@jupyter-widgets/base",
            "_view_module_version": "1.2.0",
            "_view_name": "StyleView",
            "bar_color": null,
            "description_width": "initial"
          }
        },
        "6de2fbeb393949f297c34f756129e4d8": {
          "model_module": "@jupyter-widgets/controls",
          "model_name": "HBoxModel",
          "state": {
            "_dom_classes": [],
            "_model_module": "@jupyter-widgets/controls",
            "_model_module_version": "1.5.0",
            "_model_name": "HBoxModel",
            "_view_count": null,
            "_view_module": "@jupyter-widgets/controls",
            "_view_module_version": "1.5.0",
            "_view_name": "HBoxView",
            "box_style": "",
            "children": [
              "IPY_MODEL_8fffaaff836540099e20a73f9f1f6abc",
              "IPY_MODEL_fb3fb76cfab94e18950b7fa8280d6bfa"
            ],
            "layout": "IPY_MODEL_62808217a43e4a3a87c8da4082b29801"
          }
        },
        "76f6236cddda43288fbe15c6cb9ca931": {
          "model_module": "@jupyter-widgets/controls",
          "model_name": "FloatProgressModel",
          "state": {
            "_dom_classes": [],
            "_model_module": "@jupyter-widgets/controls",
            "_model_module_version": "1.5.0",
            "_model_name": "FloatProgressModel",
            "_view_count": null,
            "_view_module": "@jupyter-widgets/controls",
            "_view_module_version": "1.5.0",
            "_view_name": "ProgressView",
            "bar_style": "success",
            "description": "100%",
            "description_tooltip": null,
            "layout": "IPY_MODEL_8c13a9024b7645b7a556a750459aa40f",
            "max": 1000,
            "min": 0,
            "orientation": "horizontal",
            "style": "IPY_MODEL_452720b5c47c4f2591cc2474da697b5f",
            "value": 1000
          }
        },
        "7873a43a0ddb48d09f18c4d72b49c568": {
          "model_module": "@jupyter-widgets/base",
          "model_name": "LayoutModel",
          "state": {
            "_model_module": "@jupyter-widgets/base",
            "_model_module_version": "1.2.0",
            "_model_name": "LayoutModel",
            "_view_count": null,
            "_view_module": "@jupyter-widgets/base",
            "_view_module_version": "1.2.0",
            "_view_name": "LayoutView",
            "align_content": null,
            "align_items": null,
            "align_self": null,
            "border": null,
            "bottom": null,
            "display": null,
            "flex": null,
            "flex_flow": null,
            "grid_area": null,
            "grid_auto_columns": null,
            "grid_auto_flow": null,
            "grid_auto_rows": null,
            "grid_column": null,
            "grid_gap": null,
            "grid_row": null,
            "grid_template_areas": null,
            "grid_template_columns": null,
            "grid_template_rows": null,
            "height": null,
            "justify_content": null,
            "justify_items": null,
            "left": null,
            "margin": null,
            "max_height": null,
            "max_width": null,
            "min_height": null,
            "min_width": null,
            "object_fit": null,
            "object_position": null,
            "order": null,
            "overflow": null,
            "overflow_x": null,
            "overflow_y": null,
            "padding": null,
            "right": null,
            "top": null,
            "visibility": null,
            "width": null
          }
        },
        "7c610bbed40d4fb39a0760b4df77eb11": {
          "model_module": "@jupyter-widgets/base",
          "model_name": "LayoutModel",
          "state": {
            "_model_module": "@jupyter-widgets/base",
            "_model_module_version": "1.2.0",
            "_model_name": "LayoutModel",
            "_view_count": null,
            "_view_module": "@jupyter-widgets/base",
            "_view_module_version": "1.2.0",
            "_view_name": "LayoutView",
            "align_content": null,
            "align_items": null,
            "align_self": null,
            "border": null,
            "bottom": null,
            "display": null,
            "flex": null,
            "flex_flow": null,
            "grid_area": null,
            "grid_auto_columns": null,
            "grid_auto_flow": null,
            "grid_auto_rows": null,
            "grid_column": null,
            "grid_gap": null,
            "grid_row": null,
            "grid_template_areas": null,
            "grid_template_columns": null,
            "grid_template_rows": null,
            "height": null,
            "justify_content": null,
            "justify_items": null,
            "left": null,
            "margin": null,
            "max_height": null,
            "max_width": null,
            "min_height": null,
            "min_width": null,
            "object_fit": null,
            "object_position": null,
            "order": null,
            "overflow": null,
            "overflow_x": null,
            "overflow_y": null,
            "padding": null,
            "right": null,
            "top": null,
            "visibility": null,
            "width": null
          }
        },
        "8c13a9024b7645b7a556a750459aa40f": {
          "model_module": "@jupyter-widgets/base",
          "model_name": "LayoutModel",
          "state": {
            "_model_module": "@jupyter-widgets/base",
            "_model_module_version": "1.2.0",
            "_model_name": "LayoutModel",
            "_view_count": null,
            "_view_module": "@jupyter-widgets/base",
            "_view_module_version": "1.2.0",
            "_view_name": "LayoutView",
            "align_content": null,
            "align_items": null,
            "align_self": null,
            "border": null,
            "bottom": null,
            "display": null,
            "flex": null,
            "flex_flow": null,
            "grid_area": null,
            "grid_auto_columns": null,
            "grid_auto_flow": null,
            "grid_auto_rows": null,
            "grid_column": null,
            "grid_gap": null,
            "grid_row": null,
            "grid_template_areas": null,
            "grid_template_columns": null,
            "grid_template_rows": null,
            "height": null,
            "justify_content": null,
            "justify_items": null,
            "left": null,
            "margin": null,
            "max_height": null,
            "max_width": null,
            "min_height": null,
            "min_width": null,
            "object_fit": null,
            "object_position": null,
            "order": null,
            "overflow": null,
            "overflow_x": null,
            "overflow_y": null,
            "padding": null,
            "right": null,
            "top": null,
            "visibility": null,
            "width": null
          }
        },
        "8fffaaff836540099e20a73f9f1f6abc": {
          "model_module": "@jupyter-widgets/controls",
          "model_name": "FloatProgressModel",
          "state": {
            "_dom_classes": [],
            "_model_module": "@jupyter-widgets/controls",
            "_model_module_version": "1.5.0",
            "_model_name": "FloatProgressModel",
            "_view_count": null,
            "_view_module": "@jupyter-widgets/controls",
            "_view_module_version": "1.5.0",
            "_view_name": "ProgressView",
            "bar_style": "success",
            "description": "Epoch 3 train: 100%",
            "description_tooltip": null,
            "layout": "IPY_MODEL_f7adceb9304448959f8c3bf33f31e7b9",
            "max": 2000,
            "min": 0,
            "orientation": "horizontal",
            "style": "IPY_MODEL_6b8609a3fe9f467ea909cfe0b799da19",
            "value": 2000
          }
        },
        "972ae0de8c254498aa37dd62cd604006": {
          "model_module": "@jupyter-widgets/controls",
          "model_name": "HTMLModel",
          "state": {
            "_dom_classes": [],
            "_model_module": "@jupyter-widgets/controls",
            "_model_module_version": "1.5.0",
            "_model_name": "HTMLModel",
            "_view_count": null,
            "_view_module": "@jupyter-widgets/controls",
            "_view_module_version": "1.5.0",
            "_view_name": "HTMLView",
            "description": "",
            "description_tooltip": null,
            "layout": "IPY_MODEL_0755d3d34cea44bb85d1a560618554b4",
            "placeholder": "​",
            "style": "IPY_MODEL_5ffaebc261e946d29a141caaea4f5fdd",
            "value": " 2000/2000 [04:59&lt;00:00,  6.69it/s]"
          }
        },
        "a9b59b5124194f71bb18fc7974cd83cf": {
          "model_module": "@jupyter-widgets/base",
          "model_name": "LayoutModel",
          "state": {
            "_model_module": "@jupyter-widgets/base",
            "_model_module_version": "1.2.0",
            "_model_name": "LayoutModel",
            "_view_count": null,
            "_view_module": "@jupyter-widgets/base",
            "_view_module_version": "1.2.0",
            "_view_name": "LayoutView",
            "align_content": null,
            "align_items": null,
            "align_self": null,
            "border": null,
            "bottom": null,
            "display": null,
            "flex": null,
            "flex_flow": null,
            "grid_area": null,
            "grid_auto_columns": null,
            "grid_auto_flow": null,
            "grid_auto_rows": null,
            "grid_column": null,
            "grid_gap": null,
            "grid_row": null,
            "grid_template_areas": null,
            "grid_template_columns": null,
            "grid_template_rows": null,
            "height": null,
            "justify_content": null,
            "justify_items": null,
            "left": null,
            "margin": null,
            "max_height": null,
            "max_width": null,
            "min_height": null,
            "min_width": null,
            "object_fit": null,
            "object_position": null,
            "order": null,
            "overflow": null,
            "overflow_x": null,
            "overflow_y": null,
            "padding": null,
            "right": null,
            "top": null,
            "visibility": null,
            "width": null
          }
        },
        "afd69d485c10453a815faf5ead6c2b3f": {
          "model_module": "@jupyter-widgets/controls",
          "model_name": "DescriptionStyleModel",
          "state": {
            "_model_module": "@jupyter-widgets/controls",
            "_model_module_version": "1.5.0",
            "_model_name": "DescriptionStyleModel",
            "_view_count": null,
            "_view_module": "@jupyter-widgets/base",
            "_view_module_version": "1.2.0",
            "_view_name": "StyleView",
            "description_width": ""
          }
        },
        "bb5117fc52f6431abf7245060f2dd744": {
          "model_module": "@jupyter-widgets/controls",
          "model_name": "HBoxModel",
          "state": {
            "_dom_classes": [],
            "_model_module": "@jupyter-widgets/controls",
            "_model_module_version": "1.5.0",
            "_model_name": "HBoxModel",
            "_view_count": null,
            "_view_module": "@jupyter-widgets/controls",
            "_view_module_version": "1.5.0",
            "_view_name": "HBoxView",
            "box_style": "",
            "children": [
              "IPY_MODEL_46bb6b64cfa947e8922be526cfa4794b",
              "IPY_MODEL_e4b1686fa03842269d519d582733589d"
            ],
            "layout": "IPY_MODEL_f6376e0638cb4ba498ef5e7ad489cf8b"
          }
        },
        "c196876b6b2745d7ba47cd3706fdf420": {
          "model_module": "@jupyter-widgets/controls",
          "model_name": "DescriptionStyleModel",
          "state": {
            "_model_module": "@jupyter-widgets/controls",
            "_model_module_version": "1.5.0",
            "_model_name": "DescriptionStyleModel",
            "_view_count": null,
            "_view_module": "@jupyter-widgets/base",
            "_view_module_version": "1.2.0",
            "_view_name": "StyleView",
            "description_width": ""
          }
        },
        "c6bda37e4b0d42d682a70b496890f92f": {
          "model_module": "@jupyter-widgets/controls",
          "model_name": "HBoxModel",
          "state": {
            "_dom_classes": [],
            "_model_module": "@jupyter-widgets/controls",
            "_model_module_version": "1.5.0",
            "_model_name": "HBoxModel",
            "_view_count": null,
            "_view_module": "@jupyter-widgets/controls",
            "_view_module_version": "1.5.0",
            "_view_name": "HBoxView",
            "box_style": "",
            "children": [
              "IPY_MODEL_2684d578ea46469ea0c42feaeab77fd1",
              "IPY_MODEL_972ae0de8c254498aa37dd62cd604006"
            ],
            "layout": "IPY_MODEL_61783bd49f8844de812269790bc1041e"
          }
        },
        "ca629333d0e2483c8f225b75202eaf3a": {
          "model_module": "@jupyter-widgets/base",
          "model_name": "LayoutModel",
          "state": {
            "_model_module": "@jupyter-widgets/base",
            "_model_module_version": "1.2.0",
            "_model_name": "LayoutModel",
            "_view_count": null,
            "_view_module": "@jupyter-widgets/base",
            "_view_module_version": "1.2.0",
            "_view_name": "LayoutView",
            "align_content": null,
            "align_items": null,
            "align_self": null,
            "border": null,
            "bottom": null,
            "display": null,
            "flex": null,
            "flex_flow": null,
            "grid_area": null,
            "grid_auto_columns": null,
            "grid_auto_flow": null,
            "grid_auto_rows": null,
            "grid_column": null,
            "grid_gap": null,
            "grid_row": null,
            "grid_template_areas": null,
            "grid_template_columns": null,
            "grid_template_rows": null,
            "height": null,
            "justify_content": null,
            "justify_items": null,
            "left": null,
            "margin": null,
            "max_height": null,
            "max_width": null,
            "min_height": null,
            "min_width": null,
            "object_fit": null,
            "object_position": null,
            "order": null,
            "overflow": null,
            "overflow_x": null,
            "overflow_y": null,
            "padding": null,
            "right": null,
            "top": null,
            "visibility": null,
            "width": null
          }
        },
        "dec17b0625d2425185176b03d21b708d": {
          "model_module": "@jupyter-widgets/controls",
          "model_name": "HTMLModel",
          "state": {
            "_dom_classes": [],
            "_model_module": "@jupyter-widgets/controls",
            "_model_module_version": "1.5.0",
            "_model_name": "HTMLModel",
            "_view_count": null,
            "_view_module": "@jupyter-widgets/controls",
            "_view_module_version": "1.5.0",
            "_view_name": "HTMLView",
            "description": "",
            "description_tooltip": null,
            "layout": "IPY_MODEL_a9b59b5124194f71bb18fc7974cd83cf",
            "placeholder": "​",
            "style": "IPY_MODEL_0f194ec785074660a9d6c770b21f46cc",
            "value": " 2000/2000 [05:11&lt;00:00,  6.42it/s]"
          }
        },
        "e0159f02b312472889bba9086f2cc881": {
          "model_module": "@jupyter-widgets/base",
          "model_name": "LayoutModel",
          "state": {
            "_model_module": "@jupyter-widgets/base",
            "_model_module_version": "1.2.0",
            "_model_name": "LayoutModel",
            "_view_count": null,
            "_view_module": "@jupyter-widgets/base",
            "_view_module_version": "1.2.0",
            "_view_name": "LayoutView",
            "align_content": null,
            "align_items": null,
            "align_self": null,
            "border": null,
            "bottom": null,
            "display": null,
            "flex": null,
            "flex_flow": null,
            "grid_area": null,
            "grid_auto_columns": null,
            "grid_auto_flow": null,
            "grid_auto_rows": null,
            "grid_column": null,
            "grid_gap": null,
            "grid_row": null,
            "grid_template_areas": null,
            "grid_template_columns": null,
            "grid_template_rows": null,
            "height": null,
            "justify_content": null,
            "justify_items": null,
            "left": null,
            "margin": null,
            "max_height": null,
            "max_width": null,
            "min_height": null,
            "min_width": null,
            "object_fit": null,
            "object_position": null,
            "order": null,
            "overflow": null,
            "overflow_x": null,
            "overflow_y": null,
            "padding": null,
            "right": null,
            "top": null,
            "visibility": null,
            "width": null
          }
        },
        "e3078c751ecc47438e93291fe5607aab": {
          "model_module": "@jupyter-widgets/controls",
          "model_name": "HTMLModel",
          "state": {
            "_dom_classes": [],
            "_model_module": "@jupyter-widgets/controls",
            "_model_module_version": "1.5.0",
            "_model_name": "HTMLModel",
            "_view_count": null,
            "_view_module": "@jupyter-widgets/controls",
            "_view_module_version": "1.5.0",
            "_view_name": "HTMLView",
            "description": "",
            "description_tooltip": null,
            "layout": "IPY_MODEL_ca629333d0e2483c8f225b75202eaf3a",
            "placeholder": "​",
            "style": "IPY_MODEL_afd69d485c10453a815faf5ead6c2b3f",
            "value": " 2000/2000 [47:03&lt;00:00,  1.41s/it]"
          }
        },
        "e338741c7df649fa8e4e6d3f64a9f071": {
          "model_module": "@jupyter-widgets/controls",
          "model_name": "ProgressStyleModel",
          "state": {
            "_model_module": "@jupyter-widgets/controls",
            "_model_module_version": "1.5.0",
            "_model_name": "ProgressStyleModel",
            "_view_count": null,
            "_view_module": "@jupyter-widgets/base",
            "_view_module_version": "1.2.0",
            "_view_name": "StyleView",
            "bar_color": null,
            "description_width": "initial"
          }
        },
        "e4b1686fa03842269d519d582733589d": {
          "model_module": "@jupyter-widgets/controls",
          "model_name": "HTMLModel",
          "state": {
            "_dom_classes": [],
            "_model_module": "@jupyter-widgets/controls",
            "_model_module_version": "1.5.0",
            "_model_name": "HTMLModel",
            "_view_count": null,
            "_view_module": "@jupyter-widgets/controls",
            "_view_module_version": "1.5.0",
            "_view_name": "HTMLView",
            "description": "",
            "description_tooltip": null,
            "layout": "IPY_MODEL_7873a43a0ddb48d09f18c4d72b49c568",
            "placeholder": "​",
            "style": "IPY_MODEL_c196876b6b2745d7ba47cd3706fdf420",
            "value": " 2000/2000 [09:57&lt;00:00,  3.35it/s]"
          }
        },
        "eacf30e249ac42daa5db07901bdbbe60": {
          "model_module": "@jupyter-widgets/base",
          "model_name": "LayoutModel",
          "state": {
            "_model_module": "@jupyter-widgets/base",
            "_model_module_version": "1.2.0",
            "_model_name": "LayoutModel",
            "_view_count": null,
            "_view_module": "@jupyter-widgets/base",
            "_view_module_version": "1.2.0",
            "_view_name": "LayoutView",
            "align_content": null,
            "align_items": null,
            "align_self": null,
            "border": null,
            "bottom": null,
            "display": null,
            "flex": null,
            "flex_flow": null,
            "grid_area": null,
            "grid_auto_columns": null,
            "grid_auto_flow": null,
            "grid_auto_rows": null,
            "grid_column": null,
            "grid_gap": null,
            "grid_row": null,
            "grid_template_areas": null,
            "grid_template_columns": null,
            "grid_template_rows": null,
            "height": null,
            "justify_content": null,
            "justify_items": null,
            "left": null,
            "margin": null,
            "max_height": null,
            "max_width": null,
            "min_height": null,
            "min_width": null,
            "object_fit": null,
            "object_position": null,
            "order": null,
            "overflow": null,
            "overflow_x": null,
            "overflow_y": null,
            "padding": null,
            "right": null,
            "top": null,
            "visibility": null,
            "width": null
          }
        },
        "f6376e0638cb4ba498ef5e7ad489cf8b": {
          "model_module": "@jupyter-widgets/base",
          "model_name": "LayoutModel",
          "state": {
            "_model_module": "@jupyter-widgets/base",
            "_model_module_version": "1.2.0",
            "_model_name": "LayoutModel",
            "_view_count": null,
            "_view_module": "@jupyter-widgets/base",
            "_view_module_version": "1.2.0",
            "_view_name": "LayoutView",
            "align_content": null,
            "align_items": null,
            "align_self": null,
            "border": null,
            "bottom": null,
            "display": null,
            "flex": null,
            "flex_flow": null,
            "grid_area": null,
            "grid_auto_columns": null,
            "grid_auto_flow": null,
            "grid_auto_rows": null,
            "grid_column": null,
            "grid_gap": null,
            "grid_row": null,
            "grid_template_areas": null,
            "grid_template_columns": null,
            "grid_template_rows": null,
            "height": null,
            "justify_content": null,
            "justify_items": null,
            "left": null,
            "margin": null,
            "max_height": null,
            "max_width": null,
            "min_height": null,
            "min_width": null,
            "object_fit": null,
            "object_position": null,
            "order": null,
            "overflow": null,
            "overflow_x": null,
            "overflow_y": null,
            "padding": null,
            "right": null,
            "top": null,
            "visibility": null,
            "width": null
          }
        },
        "f7adceb9304448959f8c3bf33f31e7b9": {
          "model_module": "@jupyter-widgets/base",
          "model_name": "LayoutModel",
          "state": {
            "_model_module": "@jupyter-widgets/base",
            "_model_module_version": "1.2.0",
            "_model_name": "LayoutModel",
            "_view_count": null,
            "_view_module": "@jupyter-widgets/base",
            "_view_module_version": "1.2.0",
            "_view_name": "LayoutView",
            "align_content": null,
            "align_items": null,
            "align_self": null,
            "border": null,
            "bottom": null,
            "display": null,
            "flex": null,
            "flex_flow": null,
            "grid_area": null,
            "grid_auto_columns": null,
            "grid_auto_flow": null,
            "grid_auto_rows": null,
            "grid_column": null,
            "grid_gap": null,
            "grid_row": null,
            "grid_template_areas": null,
            "grid_template_columns": null,
            "grid_template_rows": null,
            "height": null,
            "justify_content": null,
            "justify_items": null,
            "left": null,
            "margin": null,
            "max_height": null,
            "max_width": null,
            "min_height": null,
            "min_width": null,
            "object_fit": null,
            "object_position": null,
            "order": null,
            "overflow": null,
            "overflow_x": null,
            "overflow_y": null,
            "padding": null,
            "right": null,
            "top": null,
            "visibility": null,
            "width": null
          }
        },
        "fb3fb76cfab94e18950b7fa8280d6bfa": {
          "model_module": "@jupyter-widgets/controls",
          "model_name": "HTMLModel",
          "state": {
            "_dom_classes": [],
            "_model_module": "@jupyter-widgets/controls",
            "_model_module_version": "1.5.0",
            "_model_name": "HTMLModel",
            "_view_count": null,
            "_view_module": "@jupyter-widgets/controls",
            "_view_module_version": "1.5.0",
            "_view_name": "HTMLView",
            "description": "",
            "description_tooltip": null,
            "layout": "IPY_MODEL_581656713b1646959f70a3420fb75960",
            "placeholder": "​",
            "style": "IPY_MODEL_07aef15d3b664adb8ffa4077ba205959",
            "value": " 2000/2000 [14:55&lt;00:00,  2.23it/s]"
          }
        },
        "ffad4c75083c4a0f8d98c5d38a1aba6d": {
          "model_module": "@jupyter-widgets/controls",
          "model_name": "ProgressStyleModel",
          "state": {
            "_model_module": "@jupyter-widgets/controls",
            "_model_module_version": "1.5.0",
            "_model_name": "ProgressStyleModel",
            "_view_count": null,
            "_view_module": "@jupyter-widgets/base",
            "_view_module_version": "1.2.0",
            "_view_name": "StyleView",
            "bar_color": null,
            "description_width": "initial"
          }
        }
      }
    }
  },
  "nbformat": 4,
  "nbformat_minor": 0
}
